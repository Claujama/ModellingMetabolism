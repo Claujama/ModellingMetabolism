{
 "cells": [
  {
   "cell_type": "markdown",
   "metadata": {},
   "source": [
    "# Clase 3\n",
    "\n",
    "\n",
    "Objetivos:\n",
    "\n",
    "1. Simulación de flujos metabólicos usando programación lineal\n",
    "2. Implementación de problemas de programación lineal con numpy y scipy"
   ]
  },
  {
   "cell_type": "markdown",
   "metadata": {},
   "source": [
    "## Simulación de flujos metabólicos usando Programación lineal\n",
    "\n",
    "La distribución de flujos metabolicos de una celula puede ser modelado como:\n",
    "\n",
    "\\begin{align}\n",
    "\\mbox{max}\\ & f(x)=c^Tx \\\\\n",
    "\\mbox{s.a.} & \\\\\n",
    "&Sx=0 \\\\\n",
    "&LB<=x<=UB\n",
    "\\end{align}\n",
    "\n",
    "En donde `S` es la matriz estequiométrica, `x` los flujos metabólicos, y `LB` y `UB` que son los limites inferiores (lower bound) y superiores (upper bound) de cada flujo. Por otra parte, `c` contiene los coeficientes que ponderan el aporte de cada `x` a la generación de una función apropiada, las cuales tipicamente corresponden a biomasa o producción de energía. \n",
    "\n",
    "Para resolver este tipo de problemas usando el método simplex existe la librería `scipy.optimize.linprog`. Típicamente un modelo metabólico consiste en restricciones de igualdad, por ejemplo: \n",
    "\n",
    "\n",
    "\\begin{align}\n",
    "\\mbox{min}\\ &f(x)=70x_1+80X_2+85X_3 \\\\\n",
    "\\mbox{s.a:}\\ & \\\\\n",
    "&x_1+x_2+x_3+x_4=999 \\\\\n",
    "&x_1+4x_2+8x_3+x_5 = 4500 \\\\\n",
    "&40x_1 + 30x_2 +20x_3 = 36000 \\\\\n",
    "&3x_1 + 2x_2 +4x_3 +x_6= 2700 \\\\\n",
    "&x>=0\n",
    "\\end{align}\n",
    "\n",
    "puede ser resuelto con la siguiente código:"
   ]
  },
  {
   "cell_type": "code",
   "execution_count": 1,
   "metadata": {},
   "outputs": [
    {
     "name": "stdout",
     "output_type": "stream",
     "text": [
      "Optimal value: 73724.98976093884 \n",
      "X: [6.35999906e+02 3.29999957e+02 3.29999978e+01 2.27999966e+03\n",
      " 7.23524164e-05 4.88371031e-07]\n"
     ]
    }
   ],
   "source": [
    "import numpy as np\n",
    "from scipy.optimize import linprog\n",
    "from numpy.linalg import solve\n",
    "\n",
    "A = np.array([\n",
    "[1, 1, 1, 0, 0, 0],\n",
    "[1, 4, 8, 1, 0, 0],\n",
    "[40, 30, 20, 0, 1, 0],\n",
    "[3, 2, 4, 0, 0, 1]])\n",
    "\n",
    "b = np.array([999, 4500, 36000, 2700])\n",
    "c = np.array([70, 80, 85, 0, 0, 0])\n",
    "\n",
    "res = linprog(c, A_eq=A, b_eq=b, bounds=(0, None))\n",
    "print('Optimal value:', res.fun, '\\nX:', res.x)"
   ]
  },
  {
   "cell_type": "markdown",
   "metadata": {},
   "source": [
    "Sin embargo, `linprog` tambien nos permite resolver problemas en donde las restricciones son una mezcla de igualdades y desigualdades. \n",
    "\n",
    "Por ejemplo:\n",
    "\n",
    "\\begin{align}\n",
    "\\mbox{min}\\ &f(x)=70x_1+80X_2+85X_3 \\\\\n",
    "\\mbox{s.a:}\\ & \\\\\n",
    "&x_1+x_2+x_3=999 \\\\\n",
    "&x_1+4x_2+8x_3 \\le 4500 \\\\\n",
    "&40x_1 + 30x_2 +20x_3 \\le 36000 \\\\\n",
    "&3x_1 + 2x_2 +4x_3 \\le 2700 \\\\\n",
    "&x>=0\n",
    "\\end{align}\n",
    "\n",
    "Puede ser resuelto con las siguiente sintaxis:"
   ]
  },
  {
   "cell_type": "code",
   "execution_count": 2,
   "metadata": {},
   "outputs": [
    {
     "name": "stdout",
     "output_type": "stream",
     "text": [
      "Optimal value: 73724.98976090914 \n",
      "X: [635.99990607 329.99995653  32.99999781]\n"
     ]
    }
   ],
   "source": [
    "import numpy as np\n",
    "from scipy.optimize import linprog\n",
    "from numpy.linalg import solve\n",
    "\n",
    "A_eq = np.array([[1,1,1]])\n",
    "b_eq = np.array([999])\n",
    "\n",
    "A_ub = np.array([\n",
    "[1, 4, 8],\n",
    "[40,30,20],\n",
    "[3,2,4]])\n",
    "\n",
    "b_ub = np.array([4500, 36000,2700])\n",
    "\n",
    "c = np.array([70, 80, 85])\n",
    "\n",
    "res = linprog(c, A_eq=A_eq, b_eq=b_eq, A_ub=A_ub, b_ub=b_ub,\n",
    "bounds=(0, None))\n",
    "print('Optimal value:', res.fun, '\\nX:', res.x)"
   ]
  },
  {
   "cell_type": "markdown",
   "metadata": {},
   "source": [
    "## Ejercicio 1\n",
    "\n",
    "\n",
    "Escribe una función para resolver simular los flujos de la siguiente red metabólica."
   ]
  },
  {
   "cell_type": "markdown",
   "metadata": {},
   "source": [
    "## Ejemplo aplicado a redes metabólicas\n",
    "\n",
    "Ok, ahora interpretemos los $x$s, $S$s, y otros vectores y estructuras matemáticas a la luz de una pregunta biológicamente significativa: ¿cuál es el origen de la vida? \n",
    "\n",
    "Para eso tenemos que tener una definición de \"vida\". Al respecto la NASA la define como: [\"Un sistema químico autosustentable capaz de evolución Darwiniana\"](https://www.ncbi.nlm.nih.gov/pmc/articles/PMC3005285/). Esta definición implica que los objetos vivos tienen materical genético a sus disposición (evolución Darwiniana), el cual dificilmente se crea de manera espontanea. \n",
    "\n",
    "Una explicación a la aparición de bases nucleotidas es la hipotesis del [\"metabolismo primero\"](http://www.preposterousuniverse.com/blog/2010/03/10/free-energy-and-the-meaning-of-life/). Según esta hipotesis, un conjunto de reacciones quimicas espontaneas pueden autoreplicarse para aumentar progresivamente la complejidad de las moleculas involucradas, las cuales a su vez pueden crear sistemas más complejos. Sólo cuando hay un nivel de complejidad mínimo se puede apelar al mecanismo de evolución Darwiniana. Veamos un ejemplo.\n",
    "\n",
    "<img src=\"https://raw.githubusercontent.com/modcommet/Clases/master/methaneFreeEnergy.jpg\" width=\"400\">\n",
    "Perfil de energía libre a través de la vía geoquímica (en purpura) a metano contrastado con la vías acetogénica bacteriana (triangulos) y metanogénica de las arqueas (cuadrados), ambas usando la via de la acetil conenzima-A.(Imagen adpatada de [Yung et al 2010](http://journalofcosmology.com/SearchForLife128.html) )\n",
    "\n",
    "\n",
    "Usando la red de juguete de abajo, simula sus flujos.\n",
    "\n",
    "<img src=\"https://raw.githubusercontent.com/modcommet/Clases/master/metanogenesis.png\" width=\"400\">"
   ]
  },
  {
   "cell_type": "code",
   "execution_count": 5,
   "metadata": {},
   "outputs": [
    {
     "name": "stdout",
     "output_type": "stream",
     "text": [
      "ctx: -9.999999999037586 x: [ 10.         528.34445193  10.         518.34445193 508.34445193\n",
      "  10.         508.34445193 508.34445193]\n"
     ]
    }
   ],
   "source": [
    "# Los flujos son v = [E1,E2,R1,R2,R3,E3,E4,E5]\n",
    "\n",
    "import numpy as np\n",
    "from scipy.optimize import linprog\n",
    "from numpy.linalg import solve\n",
    "\n",
    "S = np.array([\n",
    "[1,0,-1,0,0,0,0,0], #CO2     \n",
    "[0,2,-2,-2,0,0,0,0], #H2\n",
    "[0,0,-1,1,1,0,-2,0], #F420\n",
    "[0,0,1,-1,1,0,0,0], # I1\n",
    "[0,0,0,1,-1,-1,0,0], #CH4\n",
    "[0,0,0,0,2,0,0,-2]] )#H2O\n",
    "\n",
    "b = np.array([0]*6)\n",
    "c = np.array([0,0,0,0,0,1,0,0]) # Optimizamos la produccion de biomasa (metabol) a través del flujo E3 \n",
    "\n",
    "LB = np.array([0]*8)\n",
    "UB = np.array([1000]*8)\n",
    "UB[0] =10 # Asumamos que la red metabólica está limitada por el consumo de CO2\n",
    "\n",
    "res = linprog(-c, A_eq=S, b_eq=b, bounds=list(zip(LB, UB))  )\n",
    "print('ctx:', res.fun, 'x:', res.x)"
   ]
  },
  {
   "cell_type": "code",
   "execution_count": null,
   "metadata": {},
   "outputs": [],
   "source": []
  },
  {
   "cell_type": "code",
   "execution_count": null,
   "metadata": {},
   "outputs": [],
   "source": []
  }
 ],
 "metadata": {
  "kernelspec": {
   "display_name": "Python 3",
   "language": "python",
   "name": "python3"
  },
  "language_info": {
   "codemirror_mode": {
    "name": "ipython",
    "version": 3
   },
   "file_extension": ".py",
   "mimetype": "text/x-python",
   "name": "python",
   "nbconvert_exporter": "python",
   "pygments_lexer": "ipython3",
   "version": "3.8.10"
  }
 },
 "nbformat": 4,
 "nbformat_minor": 2
}
