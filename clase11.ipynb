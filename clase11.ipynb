{
 "cells": [
  {
   "cell_type": "markdown",
   "id": "4b70ba1f",
   "metadata": {},
   "source": [
    "# Clase 11\n",
    "\n",
    "Objetivos\n",
    "\n",
    "1. Implementar minFlux\n",
    "2. Implementar SPOT"
   ]
  },
  {
   "cell_type": "code",
   "execution_count": 1,
   "id": "4c877dec",
   "metadata": {
    "scrolled": true
   },
   "outputs": [],
   "source": [
    "import cobra.test\n",
    "import cplex\n",
    "import pandas as pd\n",
    "import numpy as np"
   ]
  },
  {
   "cell_type": "markdown",
   "id": "108a6a3d",
   "metadata": {},
   "source": [
    "# 1. minFLUX\n",
    "\n",
    "La ventaja de minFlux sobre FBA es que se obtiene una solución única. Sin embargo, minFlux elimina ciclos que se han observado como activos. Por ejemplo, en *Escherichia coli*  elimina el ciclo del glyoxilato, aún cuando este se ha observado como activo. Una alternativa (que no alcanzaremos a ver en esta clase) es [MaxEnt](https://journals.plos.org/plosone/article/authors?id=10.1371/journal.pone.0243067)."
   ]
  },
  {
   "cell_type": "code",
   "execution_count": 2,
   "id": "1652e1f1",
   "metadata": {},
   "outputs": [
    {
     "data": {
      "text/plain": [
       "{'GUROBI': False,\n",
       " 'GLPK': True,\n",
       " 'MOSEK': False,\n",
       " 'CPLEX': True,\n",
       " 'COINOR_CBC': False,\n",
       " 'SCIPY': False,\n",
       " 'OSQP': False}"
      ]
     },
     "execution_count": 2,
     "metadata": {},
     "output_type": "execute_result"
    }
   ],
   "source": [
    "import optlang\n",
    "optlang.available_solvers"
   ]
  },
  {
   "cell_type": "code",
   "execution_count": 3,
   "id": "d0fa9fba",
   "metadata": {},
   "outputs": [
    {
     "name": "stdout",
     "output_type": "stream",
     "text": [
      "0.9823718127269753 19424.35396547605\n"
     ]
    }
   ],
   "source": [
    "#1. Compute biomass flux using FBA\n",
    "model = cobra.test.create_test_model(\"ecoli\")\n",
    "solution_fba = model.optimize()\n",
    "\n",
    "sumFluxes = 0\n",
    "for reaction in model.reactions:\n",
    "    sumFluxes += solution_fba[reaction.id]**2\n",
    "print(model.objective.value, sumFluxes)"
   ]
  },
  {
   "cell_type": "code",
   "execution_count": 7,
   "id": "2c36f3b6",
   "metadata": {},
   "outputs": [],
   "source": [
    "#2. Run minFlux"
   ]
  },
  {
   "cell_type": "code",
   "execution_count": 9,
   "id": "b851e4f3",
   "metadata": {},
   "outputs": [],
   "source": [
    "#2.1 Set v_biomass to the value found using FBA\n",
    "\n",
    "model.reactions.BIOMASS_Ec_iJO1366_core_53p95M.bounds=(solution_fba[\"BIOMASS_Ec_iJO1366_core_53p95M\"]\n",
    "                                          ,solution_fba[\"BIOMASS_Ec_iJO1366_core_53p95M\"])"
   ]
  },
  {
   "cell_type": "code",
   "execution_count": 14,
   "id": "abb0ff8c",
   "metadata": {},
   "outputs": [],
   "source": [
    "#2.1 Add Euclidean objecive function\n",
    "\n",
    "for i, reaction in enumerate(model.reactions):\n",
    "    if i == 0:\n",
    "        euclidean_expression  = model.reactions.get_by_id(reaction.id).flux_expression**2\n",
    "    else:\n",
    "        euclidean_expression += model.reactions.get_by_id(reaction.id).flux_expression**2\n",
    "        \n",
    "euclidean_objective = model.problem.Objective(euclidean_expression,direction=\"min\")\n",
    "model.objective = euclidean_objective        "
   ]
  },
  {
   "cell_type": "code",
   "execution_count": 12,
   "id": "c24fdc09",
   "metadata": {},
   "outputs": [],
   "source": [
    "#2.3 Compute new distribution of fluxes\n",
    "solution_minFlux = model.optimize()"
   ]
  },
  {
   "cell_type": "code",
   "execution_count": 13,
   "id": "20dfbd6c",
   "metadata": {},
   "outputs": [
    {
     "name": "stdout",
     "output_type": "stream",
     "text": [
      "0.9823718127269753 15712.349723139301 15712.349723134696\n"
     ]
    }
   ],
   "source": [
    "sumFluxes = 0\n",
    "for reaction in model.reactions:\n",
    "    sumFluxes += solution_minFlux[reaction.id]**2\n",
    "print(solution_minFlux[\"BIOMASS_Ec_iJO1366_core_53p95M\"], model.objective.value, sumFluxes)"
   ]
  },
  {
   "cell_type": "markdown",
   "id": "deb1f470",
   "metadata": {},
   "source": [
    "## Ejercicio 1\n",
    "\n",
    "Predecir los flujos de *Azotobacter vineldii* usando minFlux"
   ]
  },
  {
   "cell_type": "markdown",
   "id": "cc5199e9",
   "metadata": {},
   "source": [
    "# 2. SPOT"
   ]
  },
  {
   "cell_type": "markdown",
   "id": "561ae87b",
   "metadata": {},
   "source": [
    "SPOT también produce soluciones únicas y además no necesita un reacción de biomasa. Lo último es especialmente útil para celulas pluricelulares, en las cuales no siempre es claro que la maximización de biomasa sea una función objetivo apropiada.\n",
    "\n",
    "Usemos como ejemplo los datos recopilados por et al [Min Kyung Kim et al](https://journals.plos.org/plosone/article?id=10.1371/journal.pone.0157101#sec021)."
   ]
  },
  {
   "cell_type": "code",
   "execution_count": 2,
   "id": "4c412786",
   "metadata": {},
   "outputs": [],
   "source": [
    "# Load fpkm data and model\n",
    "\n",
    "#wget -O S2.xls 'https://journals.plos.org/plosone/article/file?type=supplementary&id=info:doi/10.1371/journal.pone.0157101.s002'\n",
    "\n",
    "data=pd.read_excel(\"S2.xls\",sheet_name=\"Transcriptomic data - Holm\", index_col=0, header=0) \n",
    "model = cobra.test.create_test_model(\"ecoli\")"
   ]
  },
  {
   "cell_type": "code",
   "execution_count": 3,
   "id": "e0cb3ec3",
   "metadata": {},
   "outputs": [],
   "source": [
    "# Define una función para cargar los fpkm de acuerdo a las gene_reaction_rules\n",
    "\n",
    "def getG(grl,fpkm):\n",
    "    grl=grl.replace(\"(\",\"\")\n",
    "    grl=grl.replace(\")\",\"\")\n",
    "    g = 0\n",
    "    for subrule in grl.split(\"or\"):\n",
    "        g_subrule = []\n",
    "        for gene in subrule.split(\"and\"):\n",
    "            gene = gene.replace(\" \",\"\")\n",
    "            if gene in fpkm:\n",
    "                g_subrule.append( float(fpkm[gene]) )\n",
    "        if len(g_subrule)>=1: \n",
    "            g += min(g_subrule)\n",
    "    return(g)"
   ]
  },
  {
   "cell_type": "code",
   "execution_count": 4,
   "id": "2d4cfd5d",
   "metadata": {},
   "outputs": [],
   "source": [
    "# Create a dictionary with the fpkm of each gene\n",
    "\n",
    "fpkm={}\n",
    "\n",
    "for gene in model.genes:\n",
    "    if gene.id  in data.index:\n",
    "        fpkm[gene] = data[\"Ref\"].loc[gene.id]\n",
    "    #else:\n",
    "    #    print(gene.id,\" not found\")"
   ]
  },
  {
   "cell_type": "code",
   "execution_count": 5,
   "id": "bf4d2875",
   "metadata": {},
   "outputs": [],
   "source": [
    "# Create a dictionary with the fpkm for each reaction\n",
    "g = {}\n",
    "mean_g = np.mean(list(fpkm.values()) ) # useful when not a grl available\n",
    "\n",
    "for reaction in model.reactions:\n",
    "    if reaction.gene_reaction_rule == \"\":\n",
    "        g[reaction.id] = mean_g    \n",
    "    else:\n",
    "        g[reaction.id] = getG(reaction.gene_reaction_rule,fpkm)"
   ]
  },
  {
   "cell_type": "code",
   "execution_count": 6,
   "id": "7f93ae1d",
   "metadata": {},
   "outputs": [],
   "source": [
    "#1 Define objecive function\n",
    "model = cobra.test.create_test_model(\"ecoli\")\n",
    "\n",
    "for i, reaction in enumerate(model.reactions):\n",
    "    if i == 0:\n",
    "        dotProduct_expression  = model.reactions.get_by_id(reaction.id).forward_variable*g[reaction.id]\n",
    "        dotProduct_expression += model.reactions.get_by_id(reaction.id).reverse_variable*g[reaction.id]\n",
    "    else:\n",
    "        dotProduct_expression += model.reactions.get_by_id(reaction.id).forward_variable*g[reaction.id]\n",
    "        dotProduct_expression += model.reactions.get_by_id(reaction.id).reverse_variable*g[reaction.id]"
   ]
  },
  {
   "cell_type": "code",
   "execution_count": 7,
   "id": "167bcd99",
   "metadata": {},
   "outputs": [],
   "source": [
    "dotProduct_objective = model.problem.Objective(dotProduct_expression,direction=\"min\")\n",
    "model.objective = dotProduct_objective "
   ]
  },
  {
   "cell_type": "code",
   "execution_count": 8,
   "id": "f1f7bb37",
   "metadata": {},
   "outputs": [],
   "source": [
    "#2.3 Compute new distribution of fluxes\n",
    "solution_SPOT = model.optimize()"
   ]
  },
  {
   "cell_type": "code",
   "execution_count": 9,
   "id": "6b7cd37c",
   "metadata": {},
   "outputs": [
    {
     "data": {
      "text/html": [
       "<strong><em>Optimal</em> solution with objective value 54.610</strong><br><div>\n",
       "<style scoped>\n",
       "    .dataframe tbody tr th:only-of-type {\n",
       "        vertical-align: middle;\n",
       "    }\n",
       "\n",
       "    .dataframe tbody tr th {\n",
       "        vertical-align: top;\n",
       "    }\n",
       "\n",
       "    .dataframe thead th {\n",
       "        text-align: right;\n",
       "    }\n",
       "</style>\n",
       "<table border=\"1\" class=\"dataframe\">\n",
       "  <thead>\n",
       "    <tr style=\"text-align: right;\">\n",
       "      <th></th>\n",
       "      <th>fluxes</th>\n",
       "      <th>reduced_costs</th>\n",
       "    </tr>\n",
       "  </thead>\n",
       "  <tbody>\n",
       "    <tr>\n",
       "      <th>DM_4crsol_c</th>\n",
       "      <td>-0.0</td>\n",
       "      <td>-19.171979</td>\n",
       "    </tr>\n",
       "    <tr>\n",
       "      <th>DM_5drib_c</th>\n",
       "      <td>0.0</td>\n",
       "      <td>37.392158</td>\n",
       "    </tr>\n",
       "    <tr>\n",
       "      <th>DM_aacald_c</th>\n",
       "      <td>0.0</td>\n",
       "      <td>46.451258</td>\n",
       "    </tr>\n",
       "    <tr>\n",
       "      <th>DM_amob_c</th>\n",
       "      <td>-0.0</td>\n",
       "      <td>-19.171979</td>\n",
       "    </tr>\n",
       "    <tr>\n",
       "      <th>DM_mththf_c</th>\n",
       "      <td>-0.0</td>\n",
       "      <td>-19.171979</td>\n",
       "    </tr>\n",
       "    <tr>\n",
       "      <th>...</th>\n",
       "      <td>...</td>\n",
       "      <td>...</td>\n",
       "    </tr>\n",
       "    <tr>\n",
       "      <th>ZN2abcpp</th>\n",
       "      <td>0.0</td>\n",
       "      <td>15.500749</td>\n",
       "    </tr>\n",
       "    <tr>\n",
       "      <th>ZN2t3pp</th>\n",
       "      <td>0.0</td>\n",
       "      <td>3.875187</td>\n",
       "    </tr>\n",
       "    <tr>\n",
       "      <th>ZN2tpp</th>\n",
       "      <td>0.0</td>\n",
       "      <td>0.000000</td>\n",
       "    </tr>\n",
       "    <tr>\n",
       "      <th>ZNabcpp</th>\n",
       "      <td>0.0</td>\n",
       "      <td>15.500749</td>\n",
       "    </tr>\n",
       "    <tr>\n",
       "      <th>Zn2tex</th>\n",
       "      <td>0.0</td>\n",
       "      <td>0.000000</td>\n",
       "    </tr>\n",
       "  </tbody>\n",
       "</table>\n",
       "<p>2583 rows × 2 columns</p>\n",
       "</div>"
      ],
      "text/plain": [
       "<Solution 54.610 at 0x7f82c95aed50>"
      ]
     },
     "execution_count": 9,
     "metadata": {},
     "output_type": "execute_result"
    }
   ],
   "source": [
    "solution_SPOT"
   ]
  },
  {
   "cell_type": "code",
   "execution_count": null,
   "id": "3b6f5ed2",
   "metadata": {},
   "outputs": [],
   "source": []
  },
  {
   "cell_type": "code",
   "execution_count": null,
   "id": "bc4c2171",
   "metadata": {},
   "outputs": [],
   "source": []
  },
  {
   "cell_type": "code",
   "execution_count": null,
   "id": "8171aeb5",
   "metadata": {},
   "outputs": [],
   "source": []
  }
 ],
 "metadata": {
  "kernelspec": {
   "display_name": "Python 3 (ipykernel)",
   "language": "python",
   "name": "python3"
  },
  "language_info": {
   "codemirror_mode": {
    "name": "ipython",
    "version": 3
   },
   "file_extension": ".py",
   "mimetype": "text/x-python",
   "name": "python",
   "nbconvert_exporter": "python",
   "pygments_lexer": "ipython3",
   "version": "3.7.5"
  }
 },
 "nbformat": 4,
 "nbformat_minor": 5
}
