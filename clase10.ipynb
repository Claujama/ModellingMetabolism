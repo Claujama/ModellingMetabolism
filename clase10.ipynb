{
 "cells": [
  {
   "cell_type": "markdown",
   "metadata": {},
   "source": [
    "# Clase 10\n",
    "\n",
    "## Objetivos:\n",
    "\n",
    "1. Implementar minFlux\n",
    "2. Implementar SPOT"
   ]
  },
  {
   "cell_type": "markdown",
   "metadata": {},
   "source": [
    "# Implementacion de minFlux"
   ]
  },
  {
   "cell_type": "code",
   "execution_count": 19,
   "metadata": {},
   "outputs": [
    {
     "ename": "SolverNotFound",
     "evalue": "cplex is not a valid solver interface. Pick one from glpk_exact, glpk, scipy.",
     "output_type": "error",
     "traceback": [
      "\u001b[0;31m---------------------------------------------------------------------------\u001b[0m",
      "\u001b[0;31mKeyError\u001b[0m                                  Traceback (most recent call last)",
      "\u001b[0;32m/usr/local/lib/python3.8/dist-packages/cobra/util/solver.py\u001b[0m in \u001b[0;36mcheck_solver\u001b[0;34m(obj)\u001b[0m\n\u001b[1;32m    339\u001b[0m         \u001b[0;32mtry\u001b[0m\u001b[0;34m:\u001b[0m\u001b[0;34m\u001b[0m\u001b[0;34m\u001b[0m\u001b[0m\n\u001b[0;32m--> 340\u001b[0;31m             \u001b[0minterface\u001b[0m \u001b[0;34m=\u001b[0m \u001b[0msolvers\u001b[0m\u001b[0;34m[\u001b[0m\u001b[0minterface_to_str\u001b[0m\u001b[0;34m(\u001b[0m\u001b[0mobj\u001b[0m\u001b[0;34m)\u001b[0m\u001b[0;34m]\u001b[0m\u001b[0;34m\u001b[0m\u001b[0;34m\u001b[0m\u001b[0m\n\u001b[0m\u001b[1;32m    341\u001b[0m         \u001b[0;32mexcept\u001b[0m \u001b[0mKeyError\u001b[0m\u001b[0;34m:\u001b[0m\u001b[0;34m\u001b[0m\u001b[0;34m\u001b[0m\u001b[0m\n",
      "\u001b[0;31mKeyError\u001b[0m: 'cplex'",
      "\nDuring handling of the above exception, another exception occurred:\n",
      "\u001b[0;31mSolverNotFound\u001b[0m                            Traceback (most recent call last)",
      "\u001b[0;32m<ipython-input-19-3c7071bf0940>\u001b[0m in \u001b[0;36m<module>\u001b[0;34m\u001b[0m\n\u001b[1;32m      1\u001b[0m \u001b[0;32mimport\u001b[0m \u001b[0mcobra\u001b[0m\u001b[0;34m.\u001b[0m\u001b[0mtest\u001b[0m\u001b[0;34m\u001b[0m\u001b[0;34m\u001b[0m\u001b[0m\n\u001b[1;32m      2\u001b[0m \u001b[0mmodel\u001b[0m \u001b[0;34m=\u001b[0m \u001b[0mcobra\u001b[0m\u001b[0;34m.\u001b[0m\u001b[0mtest\u001b[0m\u001b[0;34m.\u001b[0m\u001b[0mcreate_test_model\u001b[0m\u001b[0;34m(\u001b[0m\u001b[0;34m\"textbook\"\u001b[0m\u001b[0;34m)\u001b[0m\u001b[0;34m\u001b[0m\u001b[0;34m\u001b[0m\u001b[0m\n\u001b[0;32m----> 3\u001b[0;31m \u001b[0mmodel\u001b[0m\u001b[0;34m.\u001b[0m\u001b[0msolver\u001b[0m \u001b[0;34m=\u001b[0m \u001b[0;34m'cplex'\u001b[0m\u001b[0;34m\u001b[0m\u001b[0;34m\u001b[0m\u001b[0m\n\u001b[0m",
      "\u001b[0;32m/usr/local/lib/python3.8/dist-packages/cobra/util/context.py\u001b[0m in \u001b[0;36mwrapper\u001b[0;34m(self, new_value)\u001b[0m\n\u001b[1;32m    109\u001b[0m             \u001b[0mcontext\u001b[0m\u001b[0;34m(\u001b[0m\u001b[0mpartial\u001b[0m\u001b[0;34m(\u001b[0m\u001b[0mfunc\u001b[0m\u001b[0;34m,\u001b[0m \u001b[0mself\u001b[0m\u001b[0;34m,\u001b[0m \u001b[0mold_value\u001b[0m\u001b[0;34m)\u001b[0m\u001b[0;34m)\u001b[0m\u001b[0;34m\u001b[0m\u001b[0;34m\u001b[0m\u001b[0m\n\u001b[1;32m    110\u001b[0m \u001b[0;34m\u001b[0m\u001b[0m\n\u001b[0;32m--> 111\u001b[0;31m         \u001b[0mfunc\u001b[0m\u001b[0;34m(\u001b[0m\u001b[0mself\u001b[0m\u001b[0;34m,\u001b[0m \u001b[0mnew_value\u001b[0m\u001b[0;34m)\u001b[0m\u001b[0;34m\u001b[0m\u001b[0;34m\u001b[0m\u001b[0m\n\u001b[0m\u001b[1;32m    112\u001b[0m \u001b[0;34m\u001b[0m\u001b[0m\n\u001b[1;32m    113\u001b[0m     \u001b[0;32mreturn\u001b[0m \u001b[0mwrapper\u001b[0m\u001b[0;34m\u001b[0m\u001b[0;34m\u001b[0m\u001b[0m\n",
      "\u001b[0;32m/usr/local/lib/python3.8/dist-packages/cobra/core/model.py\u001b[0m in \u001b[0;36msolver\u001b[0;34m(self, value)\u001b[0m\n\u001b[1;32m    141\u001b[0m     \u001b[0;34m@\u001b[0m\u001b[0mresettable\u001b[0m\u001b[0;34m\u001b[0m\u001b[0;34m\u001b[0m\u001b[0m\n\u001b[1;32m    142\u001b[0m     \u001b[0;32mdef\u001b[0m \u001b[0msolver\u001b[0m\u001b[0;34m(\u001b[0m\u001b[0mself\u001b[0m\u001b[0;34m,\u001b[0m \u001b[0mvalue\u001b[0m\u001b[0;34m)\u001b[0m\u001b[0;34m:\u001b[0m\u001b[0;34m\u001b[0m\u001b[0;34m\u001b[0m\u001b[0m\n\u001b[0;32m--> 143\u001b[0;31m         \u001b[0minterface\u001b[0m \u001b[0;34m=\u001b[0m \u001b[0mcheck_solver\u001b[0m\u001b[0;34m(\u001b[0m\u001b[0mvalue\u001b[0m\u001b[0;34m)\u001b[0m\u001b[0;34m\u001b[0m\u001b[0;34m\u001b[0m\u001b[0m\n\u001b[0m\u001b[1;32m    144\u001b[0m \u001b[0;34m\u001b[0m\u001b[0m\n\u001b[1;32m    145\u001b[0m         \u001b[0;31m# Do nothing if the solver did not change\u001b[0m\u001b[0;34m\u001b[0m\u001b[0;34m\u001b[0m\u001b[0;34m\u001b[0m\u001b[0m\n",
      "\u001b[0;32m/usr/local/lib/python3.8/dist-packages/cobra/util/solver.py\u001b[0m in \u001b[0;36mcheck_solver\u001b[0;34m(obj)\u001b[0m\n\u001b[1;32m    340\u001b[0m             \u001b[0minterface\u001b[0m \u001b[0;34m=\u001b[0m \u001b[0msolvers\u001b[0m\u001b[0;34m[\u001b[0m\u001b[0minterface_to_str\u001b[0m\u001b[0;34m(\u001b[0m\u001b[0mobj\u001b[0m\u001b[0;34m)\u001b[0m\u001b[0;34m]\u001b[0m\u001b[0;34m\u001b[0m\u001b[0;34m\u001b[0m\u001b[0m\n\u001b[1;32m    341\u001b[0m         \u001b[0;32mexcept\u001b[0m \u001b[0mKeyError\u001b[0m\u001b[0;34m:\u001b[0m\u001b[0;34m\u001b[0m\u001b[0;34m\u001b[0m\u001b[0m\n\u001b[0;32m--> 342\u001b[0;31m             \u001b[0;32mraise\u001b[0m \u001b[0mnot_valid_interface\u001b[0m\u001b[0;34m\u001b[0m\u001b[0;34m\u001b[0m\u001b[0m\n\u001b[0m\u001b[1;32m    343\u001b[0m     \u001b[0;32melif\u001b[0m \u001b[0misinstance\u001b[0m\u001b[0;34m(\u001b[0m\u001b[0mobj\u001b[0m\u001b[0;34m,\u001b[0m \u001b[0mModuleType\u001b[0m\u001b[0;34m)\u001b[0m \u001b[0;32mand\u001b[0m \u001b[0mhasattr\u001b[0m\u001b[0;34m(\u001b[0m\u001b[0mobj\u001b[0m\u001b[0;34m,\u001b[0m \u001b[0;34m\"Model\"\u001b[0m\u001b[0;34m)\u001b[0m\u001b[0;34m:\u001b[0m\u001b[0;34m\u001b[0m\u001b[0;34m\u001b[0m\u001b[0m\n\u001b[1;32m    344\u001b[0m         \u001b[0minterface\u001b[0m \u001b[0;34m=\u001b[0m \u001b[0mobj\u001b[0m\u001b[0;34m\u001b[0m\u001b[0;34m\u001b[0m\u001b[0m\n",
      "\u001b[0;31mSolverNotFound\u001b[0m: cplex is not a valid solver interface. Pick one from glpk_exact, glpk, scipy."
     ]
    }
   ],
   "source": [
    "import cobra.test\n",
    "model = cobra.test.create_test_model(\"textbook\")\n",
    "model.solver = 'cplex'"
   ]
  },
  {
   "cell_type": "code",
   "execution_count": 13,
   "metadata": {},
   "outputs": [],
   "source": [
    "# Solucion de minFlux\n",
    "model_minFlux = cobra.test.create_test_model(\"textbook\")\n",
    "\n",
    "solution_minFlux = model_minFlux.optimize()\n",
    "print(solution_minFlux)"
   ]
  },
  {
   "cell_type": "code",
   "execution_count": 15,
   "metadata": {},
   "outputs": [],
   "source": [
    "for i, reaction in enumerate(model_minFlux.reactions):\n",
    "    if i == 0:\n",
    "        euclidean_expression  = model.reactions.get_by_id(reaction.id).flux_expression**2\n",
    "    else:\n",
    "        euclidean_expression += model.reactions.get_by_id(reaction.id).flux_expression**2"
   ]
  },
  {
   "cell_type": "code",
   "execution_count": 18,
   "metadata": {},
   "outputs": [
    {
     "ename": "ValueError",
     "evalue": "GLPK only supports linear objectives. Minimize\n1.0*(1.0*ACALD - 1.0*ACALD_reverse_fda2b)**2 + 1.0*(1.0*ACALDt - 1.0*ACALDt_reverse_858fa)**2 + 1.0*(1.0*ACKr - 1.0*ACKr_reverse_b49c0)**2 + 1.0*(1.0*ACONTa - 1.0*ACONTa_reverse_cad6d)**2 + 1.0*(1.0*ACONTb - 1.0*ACONTb_reverse_e198a)**2 + 1.0*(1.0*ACt2r - 1.0*ACt2r_reverse_64e05)**2 + 1.0*(1.0*ADK1 - 1.0*ADK1_reverse_a6f90)**2 + 1.0*(1.0*AKGDH - 1.0*AKGDH_reverse_08bdc)**2 + 1.0*(1.0*AKGt2r - 1.0*AKGt2r_reverse_5d500)**2 + 1.0*(1.0*ALCD2x - 1.0*ALCD2x_reverse_5d107)**2 + 1.0*(1.0*ATPS4r - 1.0*ATPS4r_reverse_64306)**2 + 1.0*(1.0*Biomass_Ecoli_core - 1.0*Biomass_Ecoli_core_reverse_2cdba)**2 + 1.0*(1.0*CO2t - 1.0*CO2t_reverse_7c42f)**2 + 1.0*(1.0*CS - 1.0*CS_reverse_8d7e9)**2 + 1.0*(1.0*CYTBD - 1.0*CYTBD_reverse_611ba)**2 + 1.0*(1.0*D_LACt2 - 1.0*D_LACt2_reverse_d0dc8)**2 + 1.0*(1.0*ENO - 1.0*ENO_reverse_40eea)**2 + 1.0*(1.0*ETOHt2r - 1.0*ETOHt2r_reverse_b3d52)**2 + 1.0*(1.0*EX_ac_e - 1.0*EX_ac_e_reverse_0be96)**2 + 1.0*(1.0*EX_acald_e - 1.0*EX_acald_e_reverse_c096e)**2 + 1.0*(1.0*EX_akg_e - 1.0*EX_akg_e_reverse_70d85)**2 + 1.0*(1.0*EX_co2_e - 1.0*EX_co2_e_reverse_d0466)**2 + 1.0*(1.0*EX_etoh_e - 1.0*EX_etoh_e_reverse_cc64f)**2 + 1.0*(1.0*EX_for_e - 1.0*EX_for_e_reverse_23269)**2 + 1.0*(1.0*EX_fru_e - 1.0*EX_fru_e_reverse_c3828)**2 + 1.0*(1.0*EX_fum_e - 1.0*EX_fum_e_reverse_e3432)**2 + 1.0*(1.0*EX_glc__D_e - 1.0*EX_glc__D_e_reverse_af641)**2 + 1.0*(1.0*EX_gln__L_e - 1.0*EX_gln__L_e_reverse_6a1a1)**2 + 1.0*(1.0*EX_glu__L_e - 1.0*EX_glu__L_e_reverse_42f6c)**2 + 1.0*(1.0*EX_h2o_e - 1.0*EX_h2o_e_reverse_3ced4)**2 + 1.0*(1.0*EX_h_e - 1.0*EX_h_e_reverse_3e0c5)**2 + 1.0*(1.0*EX_lac__D_e - 1.0*EX_lac__D_e_reverse_f95b4)**2 + 1.0*(1.0*EX_mal__L_e - 1.0*EX_mal__L_e_reverse_af154)**2 + 1.0*(1.0*EX_nh4_e - 1.0*EX_nh4_e_reverse_f9cc6)**2 + 1.0*(1.0*EX_o2_e - 1.0*EX_o2_e_reverse_efa94)**2 + 1.0*(1.0*EX_pi_e - 1.0*EX_pi_e_reverse_1fb09)**2 + 1.0*(1.0*EX_pyr_e - 1.0*EX_pyr_e_reverse_1f6de)**2 + 1.0*(1.0*EX_succ_e - 1.0*EX_succ_e_reverse_a9039)**2 + 1.0*(1.0*FBA - 1.0*FBA_reverse_84806)**2 + 1.0*(1.0*FBP - 1.0*FBP_reverse_bf2c9)**2 + 1.0*(1.0*FORt2 - 1.0*FORt2_reverse_89839)**2 + 1.0*(1.0*FORti - 1.0*FORti_reverse_18c06)**2 + 1.0*(1.0*FRD7 - 1.0*FRD7_reverse_e0172)**2 + 1.0*(1.0*FRUpts2 - 1.0*FRUpts2_reverse_58d3a)**2 + 1.0*(1.0*FUM - 1.0*FUM_reverse_d3642)**2 + 1.0*(1.0*FUMt2_2 - 1.0*FUMt2_2_reverse_7b4b6)**2 + 1.0*(1.0*G6PDH2r - 1.0*G6PDH2r_reverse_19ddf)**2 + 1.0*(1.0*GAPD - 1.0*GAPD_reverse_459c1)**2 + 1.0*(1.0*GLCpts - 1.0*GLCpts_reverse_a52ae)**2 + 1.0*(1.0*GLNS - 1.0*GLNS_reverse_59581)**2 + 1.0*(1.0*GLNabc - 1.0*GLNabc_reverse_1d82a)**2 + 1.0*(1.0*GLUDy - 1.0*GLUDy_reverse_fa4e7)**2 + 1.0*(1.0*GLUN - 1.0*GLUN_reverse_4ccdb)**2 + 1.0*(1.0*GLUSy - 1.0*GLUSy_reverse_6a00f)**2 + 1.0*(1.0*GLUt2r - 1.0*GLUt2r_reverse_3e88a)**2 + 1.0*(1.0*GND - 1.0*GND_reverse_eec5c)**2 + 1.0*(1.0*H2Ot - 1.0*H2Ot_reverse_aa560)**2 + 1.0*(1.0*ICDHyr - 1.0*ICDHyr_reverse_7f84b)**2 + 1.0*(1.0*ICL - 1.0*ICL_reverse_2f27e)**2 + 1.0*(1.0*LDH_D - 1.0*LDH_D_reverse_f8507)**2 + 1.0*(1.0*MALS - 1.0*MALS_reverse_d7382)**2 + 1.0*(1.0*MALt2_2 - 1.0*MALt2_2_reverse_a635f)**2 + 1.0*(1.0*MDH - 1.0*MDH_reverse_ee52c)**2 + 1.0*(1.0*ME1 - 1.0*ME1_reverse_9736c)**2 + 1.0*(1.0*ME2 - 1.0*ME2_reverse_2b0a2)**2 + 1.0*(1.0*NADH16 - 1.0*NADH16_reverse_330a2)**2 + 1.0*(1.0*NADTRHD - 1.0*NADTRHD_reverse_49725)**2 + 1.0*(1.0*NH4t - 1.0*NH4t_reverse_551ee)**2 + 1.0*(1.0*O2t - 1.0*O2t_reverse_4d957)**2 + 1.0*(1.0*PDH - 1.0*PDH_reverse_ca160)**2 + 1.0*(1.0*PFK - 1.0*PFK_reverse_d24a6)**2 + 1.0*(1.0*PFL - 1.0*PFL_reverse_af9ec)**2 + 1.0*(1.0*PGI - 1.0*PGI_reverse_27efc)**2 + 1.0*(1.0*PGK - 1.0*PGK_reverse_02696)**2 + 1.0*(1.0*PGL - 1.0*PGL_reverse_2bb6b)**2 + 1.0*(1.0*PGM - 1.0*PGM_reverse_fc9af)**2 + 1.0*(1.0*PIt2r - 1.0*PIt2r_reverse_1cd61)**2 + 1.0*(1.0*PPC - 1.0*PPC_reverse_e854a)**2 + 1.0*(1.0*PPCK - 1.0*PPCK_reverse_2557d)**2 + 1.0*(1.0*PPS - 1.0*PPS_reverse_1c319)**2 + 1.0*(1.0*PTAr - 1.0*PTAr_reverse_fce15)**2 + 1.0*(1.0*PYK - 1.0*PYK_reverse_bc8ff)**2 + 1.0*(1.0*PYRt2 - 1.0*PYRt2_reverse_a6e24)**2 + 1.0*(1.0*RPE - 1.0*RPE_reverse_a1b04)**2 + 1.0*(1.0*RPI - 1.0*RPI_reverse_853a1)**2 + 1.0*(1.0*SUCCt2_2 - 1.0*SUCCt2_2_reverse_206ca)**2 + 1.0*(1.0*SUCCt3 - 1.0*SUCCt3_reverse_7d82a)**2 + 1.0*(1.0*SUCDi - 1.0*SUCDi_reverse_480f4)**2 + 1.0*(1.0*SUCOAS - 1.0*SUCOAS_reverse_22958)**2 + 1.0*(1.0*TALA - 1.0*TALA_reverse_adfda)**2 + 1.0*(1.0*THD2 - 1.0*THD2_reverse_f65dd)**2 + 1.0*(1.0*TKT1 - 1.0*TKT1_reverse_a1021)**2 + 1.0*(1.0*TKT2 - 1.0*TKT2_reverse_7ebc7)**2 + 1.0*(1.0*TPI - 1.0*TPI_reverse_c2c3b)**2 + 1.0*(1.0*ATPM - 1.0*ATPM_reverse_5b752)**2 is not linear.",
     "output_type": "error",
     "traceback": [
      "\u001b[0;31m---------------------------------------------------------------------------\u001b[0m",
      "\u001b[0;31mValueError\u001b[0m                                Traceback (most recent call last)",
      "\u001b[0;32m<ipython-input-18-20e9771bab9c>\u001b[0m in \u001b[0;36m<module>\u001b[0;34m\u001b[0m\n\u001b[0;32m----> 1\u001b[0;31m euclidean_objective = model_minFlux.problem.Objective(\n\u001b[0m\u001b[1;32m      2\u001b[0m     \u001b[0meuclidean_expression\u001b[0m\u001b[0;34m,\u001b[0m\u001b[0;34m\u001b[0m\u001b[0;34m\u001b[0m\u001b[0m\n\u001b[1;32m      3\u001b[0m     direction=\"min\")\n\u001b[1;32m      4\u001b[0m \u001b[0mmodel_minFlux\u001b[0m\u001b[0;34m.\u001b[0m\u001b[0mobjective\u001b[0m \u001b[0;34m=\u001b[0m \u001b[0meuclidean_objective\u001b[0m\u001b[0;34m\u001b[0m\u001b[0;34m\u001b[0m\u001b[0m\n",
      "\u001b[0;32m/usr/local/lib/python3.8/dist-packages/optlang/glpk_interface.py\u001b[0m in \u001b[0;36m__init__\u001b[0;34m(self, expression, sloppy, **kwargs)\u001b[0m\n\u001b[1;32m    308\u001b[0m         \u001b[0mself\u001b[0m\u001b[0;34m.\u001b[0m\u001b[0m_expression_expired\u001b[0m \u001b[0;34m=\u001b[0m \u001b[0;32mFalse\u001b[0m\u001b[0;34m\u001b[0m\u001b[0;34m\u001b[0m\u001b[0m\n\u001b[1;32m    309\u001b[0m         \u001b[0;32mif\u001b[0m \u001b[0;32mnot\u001b[0m \u001b[0;34m(\u001b[0m\u001b[0msloppy\u001b[0m \u001b[0;32mor\u001b[0m \u001b[0mself\u001b[0m\u001b[0;34m.\u001b[0m\u001b[0mis_Linear\u001b[0m\u001b[0;34m)\u001b[0m\u001b[0;34m:\u001b[0m\u001b[0;34m\u001b[0m\u001b[0;34m\u001b[0m\u001b[0m\n\u001b[0;32m--> 310\u001b[0;31m             raise ValueError(\n\u001b[0m\u001b[1;32m    311\u001b[0m                 \"GLPK only supports linear objectives. %s is not linear.\" % self)\n\u001b[1;32m    312\u001b[0m \u001b[0;34m\u001b[0m\u001b[0m\n",
      "\u001b[0;31mValueError\u001b[0m: GLPK only supports linear objectives. Minimize\n1.0*(1.0*ACALD - 1.0*ACALD_reverse_fda2b)**2 + 1.0*(1.0*ACALDt - 1.0*ACALDt_reverse_858fa)**2 + 1.0*(1.0*ACKr - 1.0*ACKr_reverse_b49c0)**2 + 1.0*(1.0*ACONTa - 1.0*ACONTa_reverse_cad6d)**2 + 1.0*(1.0*ACONTb - 1.0*ACONTb_reverse_e198a)**2 + 1.0*(1.0*ACt2r - 1.0*ACt2r_reverse_64e05)**2 + 1.0*(1.0*ADK1 - 1.0*ADK1_reverse_a6f90)**2 + 1.0*(1.0*AKGDH - 1.0*AKGDH_reverse_08bdc)**2 + 1.0*(1.0*AKGt2r - 1.0*AKGt2r_reverse_5d500)**2 + 1.0*(1.0*ALCD2x - 1.0*ALCD2x_reverse_5d107)**2 + 1.0*(1.0*ATPS4r - 1.0*ATPS4r_reverse_64306)**2 + 1.0*(1.0*Biomass_Ecoli_core - 1.0*Biomass_Ecoli_core_reverse_2cdba)**2 + 1.0*(1.0*CO2t - 1.0*CO2t_reverse_7c42f)**2 + 1.0*(1.0*CS - 1.0*CS_reverse_8d7e9)**2 + 1.0*(1.0*CYTBD - 1.0*CYTBD_reverse_611ba)**2 + 1.0*(1.0*D_LACt2 - 1.0*D_LACt2_reverse_d0dc8)**2 + 1.0*(1.0*ENO - 1.0*ENO_reverse_40eea)**2 + 1.0*(1.0*ETOHt2r - 1.0*ETOHt2r_reverse_b3d52)**2 + 1.0*(1.0*EX_ac_e - 1.0*EX_ac_e_reverse_0be96)**2 + 1.0*(1.0*EX_acald_e - 1.0*EX_acald_e_reverse_c096e)**2 + 1.0*(1.0*EX_akg_e - 1.0*EX_akg_e_reverse_70d85)**2 + 1.0*(1.0*EX_co2_e - 1.0*EX_co2_e_reverse_d0466)**2 + 1.0*(1.0*EX_etoh_e - 1.0*EX_etoh_e_reverse_cc64f)**2 + 1.0*(1.0*EX_for_e - 1.0*EX_for_e_reverse_23269)**2 + 1.0*(1.0*EX_fru_e - 1.0*EX_fru_e_reverse_c3828)**2 + 1.0*(1.0*EX_fum_e - 1.0*EX_fum_e_reverse_e3432)**2 + 1.0*(1.0*EX_glc__D_e - 1.0*EX_glc__D_e_reverse_af641)**2 + 1.0*(1.0*EX_gln__L_e - 1.0*EX_gln__L_e_reverse_6a1a1)**2 + 1.0*(1.0*EX_glu__L_e - 1.0*EX_glu__L_e_reverse_42f6c)**2 + 1.0*(1.0*EX_h2o_e - 1.0*EX_h2o_e_reverse_3ced4)**2 + 1.0*(1.0*EX_h_e - 1.0*EX_h_e_reverse_3e0c5)**2 + 1.0*(1.0*EX_lac__D_e - 1.0*EX_lac__D_e_reverse_f95b4)**2 + 1.0*(1.0*EX_mal__L_e - 1.0*EX_mal__L_e_reverse_af154)**2 + 1.0*(1.0*EX_nh4_e - 1.0*EX_nh4_e_reverse_f9cc6)**2 + 1.0*(1.0*EX_o2_e - 1.0*EX_o2_e_reverse_efa94)**2 + 1.0*(1.0*EX_pi_e - 1.0*EX_pi_e_reverse_1fb09)**2 + 1.0*(1.0*EX_pyr_e - 1.0*EX_pyr_e_reverse_1f6de)**2 + 1.0*(1.0*EX_succ_e - 1.0*EX_succ_e_reverse_a9039)**2 + 1.0*(1.0*FBA - 1.0*FBA_reverse_84806)**2 + 1.0*(1.0*FBP - 1.0*FBP_reverse_bf2c9)**2 + 1.0*(1.0*FORt2 - 1.0*FORt2_reverse_89839)**2 + 1.0*(1.0*FORti - 1.0*FORti_reverse_18c06)**2 + 1.0*(1.0*FRD7 - 1.0*FRD7_reverse_e0172)**2 + 1.0*(1.0*FRUpts2 - 1.0*FRUpts2_reverse_58d3a)**2 + 1.0*(1.0*FUM - 1.0*FUM_reverse_d3642)**2 + 1.0*(1.0*FUMt2_2 - 1.0*FUMt2_2_reverse_7b4b6)**2 + 1.0*(1.0*G6PDH2r - 1.0*G6PDH2r_reverse_19ddf)**2 + 1.0*(1.0*GAPD - 1.0*GAPD_reverse_459c1)**2 + 1.0*(1.0*GLCpts - 1.0*GLCpts_reverse_a52ae)**2 + 1.0*(1.0*GLNS - 1.0*GLNS_reverse_59581)**2 + 1.0*(1.0*GLNabc - 1.0*GLNabc_reverse_1d82a)**2 + 1.0*(1.0*GLUDy - 1.0*GLUDy_reverse_fa4e7)**2 + 1.0*(1.0*GLUN - 1.0*GLUN_reverse_4ccdb)**2 + 1.0*(1.0*GLUSy - 1.0*GLUSy_reverse_6a00f)**2 + 1.0*(1.0*GLUt2r - 1.0*GLUt2r_reverse_3e88a)**2 + 1.0*(1.0*GND - 1.0*GND_reverse_eec5c)**2 + 1.0*(1.0*H2Ot - 1.0*H2Ot_reverse_aa560)**2 + 1.0*(1.0*ICDHyr - 1.0*ICDHyr_reverse_7f84b)**2 + 1.0*(1.0*ICL - 1.0*ICL_reverse_2f27e)**2 + 1.0*(1.0*LDH_D - 1.0*LDH_D_reverse_f8507)**2 + 1.0*(1.0*MALS - 1.0*MALS_reverse_d7382)**2 + 1.0*(1.0*MALt2_2 - 1.0*MALt2_2_reverse_a635f)**2 + 1.0*(1.0*MDH - 1.0*MDH_reverse_ee52c)**2 + 1.0*(1.0*ME1 - 1.0*ME1_reverse_9736c)**2 + 1.0*(1.0*ME2 - 1.0*ME2_reverse_2b0a2)**2 + 1.0*(1.0*NADH16 - 1.0*NADH16_reverse_330a2)**2 + 1.0*(1.0*NADTRHD - 1.0*NADTRHD_reverse_49725)**2 + 1.0*(1.0*NH4t - 1.0*NH4t_reverse_551ee)**2 + 1.0*(1.0*O2t - 1.0*O2t_reverse_4d957)**2 + 1.0*(1.0*PDH - 1.0*PDH_reverse_ca160)**2 + 1.0*(1.0*PFK - 1.0*PFK_reverse_d24a6)**2 + 1.0*(1.0*PFL - 1.0*PFL_reverse_af9ec)**2 + 1.0*(1.0*PGI - 1.0*PGI_reverse_27efc)**2 + 1.0*(1.0*PGK - 1.0*PGK_reverse_02696)**2 + 1.0*(1.0*PGL - 1.0*PGL_reverse_2bb6b)**2 + 1.0*(1.0*PGM - 1.0*PGM_reverse_fc9af)**2 + 1.0*(1.0*PIt2r - 1.0*PIt2r_reverse_1cd61)**2 + 1.0*(1.0*PPC - 1.0*PPC_reverse_e854a)**2 + 1.0*(1.0*PPCK - 1.0*PPCK_reverse_2557d)**2 + 1.0*(1.0*PPS - 1.0*PPS_reverse_1c319)**2 + 1.0*(1.0*PTAr - 1.0*PTAr_reverse_fce15)**2 + 1.0*(1.0*PYK - 1.0*PYK_reverse_bc8ff)**2 + 1.0*(1.0*PYRt2 - 1.0*PYRt2_reverse_a6e24)**2 + 1.0*(1.0*RPE - 1.0*RPE_reverse_a1b04)**2 + 1.0*(1.0*RPI - 1.0*RPI_reverse_853a1)**2 + 1.0*(1.0*SUCCt2_2 - 1.0*SUCCt2_2_reverse_206ca)**2 + 1.0*(1.0*SUCCt3 - 1.0*SUCCt3_reverse_7d82a)**2 + 1.0*(1.0*SUCDi - 1.0*SUCDi_reverse_480f4)**2 + 1.0*(1.0*SUCOAS - 1.0*SUCOAS_reverse_22958)**2 + 1.0*(1.0*TALA - 1.0*TALA_reverse_adfda)**2 + 1.0*(1.0*THD2 - 1.0*THD2_reverse_f65dd)**2 + 1.0*(1.0*TKT1 - 1.0*TKT1_reverse_a1021)**2 + 1.0*(1.0*TKT2 - 1.0*TKT2_reverse_7ebc7)**2 + 1.0*(1.0*TPI - 1.0*TPI_reverse_c2c3b)**2 + 1.0*(1.0*ATPM - 1.0*ATPM_reverse_5b752)**2 is not linear."
     ]
    }
   ],
   "source": [
    "euclidean_objective = model_minFlux.problem.Objective(\n",
    "    euclidean_expression,\n",
    "    direction=\"min\")\n",
    "model_minFlux.objective = euclidean_objective"
   ]
  },
  {
   "cell_type": "code",
   "execution_count": 9,
   "metadata": {},
   "outputs": [
    {
     "data": {
      "text/latex": [
       "$\\displaystyle 1.0 FBA - 1.0 FBA_{reverse 84806} - 1.0 NH4t + 1.0 NH4t_{reverse 551ee}$"
      ],
      "text/plain": [
       "1.0*FBA - 1.0*FBA_reverse_84806 - 1.0*NH4t + 1.0*NH4t_reverse_551ee"
      ]
     },
     "execution_count": 9,
     "metadata": {},
     "output_type": "execute_result"
    }
   ],
   "source": []
  },
  {
   "cell_type": "code",
   "execution_count": null,
   "metadata": {},
   "outputs": [],
   "source": []
  }
 ],
 "metadata": {
  "kernelspec": {
   "display_name": "Python 3",
   "language": "python",
   "name": "python3"
  },
  "language_info": {
   "codemirror_mode": {
    "name": "ipython",
    "version": 3
   },
   "file_extension": ".py",
   "mimetype": "text/x-python",
   "name": "python",
   "nbconvert_exporter": "python",
   "pygments_lexer": "ipython3",
   "version": "3.8.10"
  }
 },
 "nbformat": 4,
 "nbformat_minor": 4
}
