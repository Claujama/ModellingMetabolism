{
 "cells": [
  {
   "cell_type": "markdown",
   "metadata": {},
   "source": [
    "# Clase 2\n",
    "\n",
    "## Objetivos:\n",
    "\n",
    "* Utilizar Jupyter Notebooks\n",
    "* Introducción a metodos númericos con `numpy`\n",
    "* Graficar resultados (matplotlib)"
   ]
  },
  {
   "cell_type": "markdown",
   "metadata": {},
   "source": [
    "1. Resolución de sistemas de ecuaciones lineales: numpy\n",
    "--------------------------------------------------------\n",
    "\n",
    "El siguiente sistema de equaciones lineales\n",
    "\n",
    "\\begin{equation}\n",
    "10a + 2b = 20 \\\\ \n",
    "3a + 7b = 19\n",
    "\\end{equation}\n",
    "\n",
    "Se puede escribir como \n",
    "\n",
    "\\begin{equation}\n",
    "\\left[ \\begin{array}{ccc} 10 & 2 \\\\ 3 & 7 \\\\ \\end{array} \\right]\\left[ \\begin{array}{c} a \\\\ b \\\\ \\end{array} \\right] = \\left[ \\begin{array}{c} 20 \\\\ 19 \\\\ \\end{array} \\right]\n",
    "\\end{equation}\n",
    "\n",
    "O de manera más compacta:\n",
    "\n",
    "\\begin{equation} \n",
    "AX = B\n",
    "\\end{equation}\n",
    "\n",
    "En donde:\n",
    "\n",
    "\\begin{align}\n",
    "A & = \\left[ \\begin{array}{ccc} 10 & 2 \\\\ 3 & 7 \\\\ \\end{array} \\right] \\\\\n",
    "X &= \\left[ \\begin{array}{c} a \\\\ b \\\\ \\end{array} \\right] \\\\\n",
    "B &= \\left[ \\begin{array}{c} 20 \\\\ 19 \\\\ \\end{array} \\right] \\\\\n",
    "\\end{align}\n",
    "\n",
    "Usando algebra lineal podemos encontrar $X$:\n",
    "\n",
    "\\begin{align}\n",
    "AX &= B \\\\\n",
    "A^{-1} AX &= A^{-1}B \\\\\n",
    "X &= A^{-1}B\n",
    "\\end{align}\n",
    "\n",
    "Para resolver este sistema en Python utilizaremos la libreria [numpy](http://www.numpy.org/)"
   ]
  },
  {
   "cell_type": "code",
   "execution_count": 3,
   "metadata": {},
   "outputs": [
    {
     "name": "stdout",
     "output_type": "stream",
     "text": [
      "[[1.59375]\n",
      " [2.03125]]\n"
     ]
    }
   ],
   "source": [
    "# Carga la libreria numpy y la renombra np (simplemente para ser más conciso)\n",
    "import numpy as np \n",
    "\n",
    "# Definiendo matrices\n",
    "A = np.matrix([[10,2], [3,7]])\n",
    "B = np.matrix([[20], [19]])\n",
    "\n",
    "# Calculando la inversa de A\n",
    "\n",
    "A_inverse = np.linalg.inv(A)\n",
    "\n",
    "# Resolviendo para X\n",
    "X = A_inverse * B # esta es la libreria de al\n",
    "print( X )\n"
   ]
  },
  {
   "cell_type": "markdown",
   "metadata": {},
   "source": [
    "Ejercicios\n",
    "-----------\n",
    "\n",
    "Resuelve los siguientes sistemas de ecuaciones, definiendo una función que tome como input $A$ y $B$, y entregue como resultado $X$.\n",
    "\n",
    "1. Sistema de 3x3\n",
    "\n",
    "    \\begin{align}\n",
    "    10a + 2b + 3c &= 20 \\\\ \n",
    "    3a + 7b + 5c &= 19 \\\\\n",
    "    3a + 7b + 7c &= 15\n",
    "    \\end{align}\n",
    "\n",
    "2. Sistema de 4x4\n",
    "\n",
    "    \\begin{align}\n",
    "    10a + 2b + 3c + 3d &= 20 \\\\ \n",
    "    3a + 7b + 5c + 1d &= 19 \\\\\n",
    "    3a + 7b + 7c + 10d &= 15 \\\\\n",
    "    4a + 9b + 8c + 9d &= 18 \n",
    "    \\end{align}\n"
   ]
  },
  {
   "cell_type": "code",
   "execution_count": 4,
   "metadata": {},
   "outputs": [
    {
     "name": "stdout",
     "output_type": "stream",
     "text": [
      "Sol1:\n",
      "[[ 1.9375]\n",
      " [ 3.3125]\n",
      " [-2.    ]]\n",
      "Sol2:\n",
      "[[ -0.45054945]\n",
      " [-11.05494505]\n",
      " [ 20.54945055]\n",
      " [ -5.01098901]]\n"
     ]
    }
   ],
   "source": [
    "A1=np.matrix([[10,2,3],[3,7,5],[3,7,7]])\n",
    "B1=np.matrix([[20],[19],[15]])\n",
    "\n",
    "A2=np.matrix([[10,2,3,3],[3,7,5,1],[3,7,7,10],[4,9,8,9]])\n",
    "B2=np.matrix([[20],[19],[15],[18]])\n",
    "\n",
    "def solLinAlg(A,B):\n",
    "    # Carga la libreria numpy y la renombra np (simplemente para ser más conciso)\n",
    "    import numpy as np \n",
    "    A_inverse = np.linalg.inv(A)\n",
    "    # Resolviendo para X\n",
    "    X = A_inverse * B # esta es la libreria de al\n",
    "    return X\n",
    "\n",
    "print(\"Sol1:\" )\n",
    "print(solLinAlg(A1,B1) )\n",
    "print(\"Sol2:\" )\n",
    "print(solLinAlg(A2,B2) )"
   ]
  },
  {
   "cell_type": "markdown",
   "metadata": {},
   "source": [
    "2. Estadistica: distribución normal\n",
    "-----------------------------------\n",
    "\n",
    "En teoría de la probabilidad, la [distribución normal](https://en.wikipedia.org/wiki/Normal_distribution) \n",
    "es una de las más usadas. Matemáticamente corresponde a:\n",
    "\n",
    "\\begin{equation}\n",
    "f(x | \\mu,\\sigma^2)={{1}\\over{ \\sqrt{ 2\\pi \\sigma^2 } } } e^{- {{(x-\\mu)^2} \\over {2 \\sigma^2}} }\n",
    "\\end{equation}\n",
    "\n",
    "En Python, la libreria numpy tiene una implementación de esta distribución. Veamos un ejempplo."
   ]
  },
  {
   "cell_type": "code",
   "execution_count": 7,
   "metadata": {},
   "outputs": [
    {
     "data": {
      "image/png": "[encoded data removed]",
      "text/plain": [
       "<Figure size 432x288 with 1 Axes>"
      ]
     },
     "metadata": {
      "needs_background": "light"
     },
     "output_type": "display_data"
    }
   ],
   "source": [
    "mu, sigma = 0, 0.1 # promedio y desviación estandar\n",
    "s = np.random.normal(mu, sigma, 1000) # 1000 puntos generados aleatoriamente\n",
    "\n",
    "# Grafico de los puntos muestreados (samples)\n",
    "import matplotlib.pyplot as plt\n",
    "\n",
    "n, x, blabla = plt.hist(s, bins=30, edgecolor='black') # Crea un histograma\n",
    "plt.plot(x, 1/(sigma * np.sqrt(2 * np.pi)) *np.exp( - (x - mu)**2 / (2 * sigma**2) ),\n",
    "         linewidth=2, color='green') # Crea una linea calculada usando la ecuacion de la distribución normal\n",
    "plt.show() # Muestra el grafico en pantalla"
   ]
  },
  {
   "cell_type": "code",
   "execution_count": 8,
   "metadata": {},
   "outputs": [
    {
     "data": {
      "image/png": "[encoded data removed]",
      "text/plain": [
       "<Figure size 432x288 with 1 Axes>"
      ]
     },
     "metadata": {
      "needs_background": "light"
     },
     "output_type": "display_data"
    }
   ],
   "source": [
    "np.random.seed(100)\n",
    "\n",
    "mu, sigma = 10, 1 # promedio y desviación estandar\n",
    "s = np.random.normal(mu, sigma, 10000) # 1000 puntos generados aleatoriamente\n",
    "len(s)\n",
    "# Grafico de los puntos muestreados (samples)\n",
    "import matplotlib.pyplot as plt\n",
    "plt.hist(s,bins=50)\n",
    "plt.show()"
   ]
  },
  {
   "cell_type": "code",
   "execution_count": 9,
   "metadata": {},
   "outputs": [
    {
     "data": {
      "image/png": "[encoded data removed]",
      "text/plain": [
       "<Figure size 432x288 with 1 Axes>"
      ]
     },
     "metadata": {
      "needs_background": "light"
     },
     "output_type": "display_data"
    }
   ],
   "source": [
    "plt.hist(s)\n",
    "plt.show()"
   ]
  },
  {
   "cell_type": "markdown",
   "metadata": {},
   "source": [
    "La generación de datos aleatorios (usando la distribución normal u otras) es especialmente útil cuando se necesita simular datos experimentales. Esto se hará evidente en la próxima sección.\n",
    "\n",
    "Ejercicios\n",
    "-----------\n",
    "\n",
    "Simula y gráfica tres distribuciones normales, cada una con los siguientes parámetros:\n",
    "\n",
    "1. $\\mu=10$, $\\sigma=0.7$\n",
    "2. $\\mu=-10$, $\\sigma=0.7$\n",
    "3. $\\mu=10$, $\\sigma=2.7$"
   ]
  },
  {
   "cell_type": "code",
   "execution_count": 12,
   "metadata": {},
   "outputs": [
    {
     "data": {
      "image/png": "[encoded data removed]",
      "text/plain": [
       "<Figure size 432x288 with 1 Axes>"
      ]
     },
     "metadata": {
      "needs_background": "light"
     },
     "output_type": "display_data"
    },
    {
     "data": {
      "image/png": "[encoded data removed]",
      "text/plain": [
       "<Figure size 432x288 with 1 Axes>"
      ]
     },
     "metadata": {
      "needs_background": "light"
     },
     "output_type": "display_data"
    },
    {
     "data": {
      "image/png": "[encoded data removed]",
      "text/plain": [
       "<Figure size 432x288 with 1 Axes>"
      ]
     },
     "metadata": {
      "needs_background": "light"
     },
     "output_type": "display_data"
    },
    {
     "data": {
      "text/plain": [
       "0"
      ]
     },
     "execution_count": 12,
     "metadata": {},
     "output_type": "execute_result"
    }
   ],
   "source": [
    "def graficarNormal(u,s,n):\n",
    "    datos = np.random.normal(u, s, n) # n puntos generados aleatoriamente\n",
    "\n",
    "    # Grafico de los puntos muestreados (samples)\n",
    "    import matplotlib.pyplot as plt\n",
    "\n",
    "    n, bins, blabla = plt.hist(datos, 30,edgecolor='black') # Crea un histograma\n",
    "    plt.plot(bins, 1/(s * np.sqrt(2 * np.pi)) *np.exp( - (bins - u)**2 / (2 * s**2) ),\n",
    "             linewidth=2, color='r') # Crea una linea calculada usando la ecuacion de la distribución normal\n",
    "    plt.show() # Muestra el grafico en pantalla\n",
    "    return 0\n",
    "\n",
    "graficarNormal(10,0.7,1000)\n",
    "graficarNormal(-10,0.7,1000)\n",
    "graficarNormal(-10,2.7,1000)"
   ]
  },
  {
   "cell_type": "markdown",
   "metadata": {},
   "source": [
    "## 3. Ajuste por minimización de los minimos cuadrados\n",
    "\n",
    "Dado un conjunto de datos experimentales $\\{t,y\\} \\in R^n$ y una función $f(t|\\alpha)$ el objetivo es encontrar el valor de $\\alpha$ que minimize la suma de los errores (también llamados residuales):\n",
    "\n",
    "\\begin{equation}\n",
    " S=\\sum_i^n r_i^2 \\\\\n",
    " r_i = y_i-f(t_i|\\alpha)\n",
    "\\end{equation}\n",
    "\n",
    "Ejemplo:"
   ]
  },
  {
   "cell_type": "code",
   "execution_count": 13,
   "metadata": {},
   "outputs": [
    {
     "data": {
      "image/png": "[encoded data removed]",
      "text/plain": [
       "<Figure size 432x288 with 1 Axes>"
      ]
     },
     "metadata": {
      "needs_background": "light"
     },
     "output_type": "display_data"
    }
   ],
   "source": [
    "import numpy as np\n",
    "import scipy as sp\n",
    "import matplotlib.pyplot as plt\n",
    "\n",
    "# Generar datos {t,y}, en donde y=t^2\n",
    "t = np.linspace(0,100,200)\n",
    "parabola = t**1.93 \n",
    "noise = np.random.normal(0,5,200)\n",
    "y = parabola + noise\n",
    "plt.plot(t,y,'.')\n",
    "plt.show()\n"
   ]
  },
  {
   "cell_type": "markdown",
   "metadata": {},
   "source": [
    "Para encontrar el valor de $\\alpha$ usaremos la funcion leastsq de scipy"
   ]
  },
  {
   "cell_type": "code",
   "execution_count": 15,
   "metadata": {},
   "outputs": [
    {
     "name": "stdout",
     "output_type": "stream",
     "text": [
      "(array([1.92997855]), 3)\n"
     ]
    },
    {
     "data": {
      "image/png": "[encoded data removed]",
      "text/plain": [
       "<Figure size 432x288 with 1 Axes>"
      ]
     },
     "metadata": {
      "needs_background": "light"
     },
     "output_type": "display_data"
    }
   ],
   "source": [
    "from scipy.optimize import leastsq\n",
    "def residual(alpha,x,y):\n",
    "    f = np.power(x,alpha) # x**alpha\n",
    "    return y-f\n",
    "\n",
    "out=leastsq(residual,2,args=(t,y))\n",
    "print(out)\n",
    "out[0][0]\n",
    "fit=np.power(t,out[0][0])\n",
    "plt.plot(t,y,'ro')\n",
    "plt.plot(t,fit)\n",
    "plt.show()"
   ]
  },
  {
   "cell_type": "markdown",
   "metadata": {},
   "source": [
    "Ejercicios\n",
    "----------\n",
    "\n",
    "1. Crear una sequencia $\\{t,y\\} \\in R^{200}$ en donde: $y=sin(t)\\alpha$, y $\\alpha=4.3$.\n",
    "2. Agregar ruido normal ($\\mu=0, \\sigma=0.2$) a $y$, para obtener $y'$.\n",
    "3. Dados $\\{t,y'\\}$ crear una función para encontrar el valor de $\\alpha$.\n",
    "4. Graficar los resultados, incluyendo la curva ajustada.\n",
    "5. Repetir lo anterior, pero esta vez con $y=mt+b$, en donde $m=2$ y $b=0.5$.\n"
   ]
  },
  {
   "cell_type": "code",
   "execution_count": 18,
   "metadata": {},
   "outputs": [
    {
     "data": {
      "image/png": "[encoded data removed]",
      "text/plain": [
       "<Figure size 432x288 with 1 Axes>"
      ]
     },
     "metadata": {
      "needs_background": "light"
     },
     "output_type": "display_data"
    },
    {
     "name": "stdout",
     "output_type": "stream",
     "text": [
      "(array([4.30526166]), 3)\n"
     ]
    },
    {
     "data": {
      "image/png": "[encoded data removed]",
      "text/plain": [
       "<Figure size 432x288 with 1 Axes>"
      ]
     },
     "metadata": {
      "needs_background": "light"
     },
     "output_type": "display_data"
    },
    {
     "name": "stdout",
     "output_type": "stream",
     "text": [
      "4.305261659573865\n"
     ]
    }
   ],
   "source": [
    "t = np.linspace(0,10,200)\n",
    "a=4.3\n",
    "y=np.sin(t)*a\n",
    "noise=np.random.normal(0,0.2,200)\n",
    "y_prima=y+noise\n",
    "plt.plot(t,y_prima,'o')\n",
    "plt.show()\n",
    "\n",
    "def encontrarA(t,y,vi):\n",
    "    from scipy.optimize import leastsq\n",
    "    def residual(a,t,y):\n",
    "        model = np.sin(t)*a\n",
    "        return y-model\n",
    "\n",
    "    out=leastsq(residual,vi,args=(t,y))\n",
    "    print(out)\n",
    "    a=out[0][0]\n",
    "    fit=np.sin(t)*a\n",
    "    plt.plot(t,y_prima,'o')\n",
    "    plt.plot(t,fit,'r')\n",
    "    plt.show()\n",
    "    return a\n",
    "a=encontrarA(t,y_prima,2)\n",
    "print(a)"
   ]
  },
  {
   "cell_type": "code",
   "execution_count": null,
   "metadata": {},
   "outputs": [],
   "source": []
  }
 ],
 "metadata": {
  "kernelspec": {
   "display_name": "Python 3",
   "language": "python",
   "name": "python3"
  },
  "language_info": {
   "codemirror_mode": {
    "name": "ipython",
    "version": 3
   },
   "file_extension": ".py",
   "mimetype": "text/x-python",
   "name": "python",
   "nbconvert_exporter": "python",
   "pygments_lexer": "ipython3",
   "version": "3.8.10"
  }
 },
 "nbformat": 4,
 "nbformat_minor": 2
}
